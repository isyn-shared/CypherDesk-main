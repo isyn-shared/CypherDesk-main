{
 "cells": [
  {
   "cell_type": "code",
   "execution_count": 69,
   "metadata": {
    "collapsed": true
   },
   "outputs": [],
   "source": [
    "import pandas as pd\n",
    "import numpy as np\n",
    "import matplotlib.pyplot as plt"
   ]
  },
  {
   "cell_type": "code",
   "execution_count": 70,
   "metadata": {
    "collapsed": true
   },
   "outputs": [],
   "source": [
    "data = pd.read_csv('Key-phrases-DFE-794640.csv')"
   ]
  },
  {
   "cell_type": "code",
   "execution_count": 90,
   "metadata": {
    "scrolled": true
   },
   "outputs": [
    {
     "data": {
      "text/plain": [
       "'In just seven months, support for Mahuad has dissolved.\\nhke041106 -- Infamous Military Agency Dissolved in Indonesia\\nThe Gilded Age Dissolves in Panic\\n\"If you dissolve the parties, it will take you more time...you will have to dissolve all the structures on the ground... which will entail a longer period of stay for the military,\" he said.\\nThe non-crystalline form of cellulose is more dissolvable.'"
      ]
     },
     "execution_count": 90,
     "metadata": {},
     "output_type": "execute_result"
    }
   ],
   "source": [
    "data[\"answer\"][20]"
   ]
  },
  {
   "cell_type": "code",
   "execution_count": 72,
   "metadata": {},
   "outputs": [
    {
     "data": {
      "text/plain": [
       "Index(['_unit_id', '_golden', '_unit_state', '_trusted_judgments',\n",
       "       '_last_judgment_at',\n",
       "       'does_the_passage_1_contain_and_support_the_answer_to_the_question',\n",
       "       'does_the_passage_1_contain_and_support_the_answer_to_the_question:confidence',\n",
       "       'does_the_passage_2_contain_and_support_the_answer_to_the_question',\n",
       "       'does_the_passage_2_contain_and_support_the_answer_to_the_question:confidence',\n",
       "       'does_the_passage_3_contain_and_support_the_answer_to_the_question',\n",
       "       'does_the_passage_3_contain_and_support_the_answer_to_the_question:confidence',\n",
       "       'does_the_passage_4_contain_and_support_the_answer_to_the_question',\n",
       "       'does_the_passage_4_contain_and_support_the_answer_to_the_question:confidence',\n",
       "       'does_the_passage_5_contain_and_support_the_answer_to_the_question',\n",
       "       'does_the_passage_5_contain_and_support_the_answer_to_the_question:confidence',\n",
       "       'aid', 'answer',\n",
       "       'does_the_passage_1_contain_and_support_the_answer_to_the_question_gold',\n",
       "       'does_the_passage_2_contain_and_support_the_answer_to_the_question_gold',\n",
       "       'does_the_passage_3_contain_and_support_the_answer_to_the_question_gold',\n",
       "       'does_the_passage_4_contain_and_support_the_answer_to_the_question_gold',\n",
       "       'does_the_passage_5_contain_and_support_the_answer_to_the_question_gold',\n",
       "       'id', 'labels', 'qid', 'question'],\n",
       "      dtype='object')"
      ]
     },
     "execution_count": 72,
     "metadata": {},
     "output_type": "execute_result"
    }
   ],
   "source": [
    "data.columns"
   ]
  },
  {
   "cell_type": "code",
   "execution_count": 73,
   "metadata": {},
   "outputs": [
    {
     "name": "stdout",
     "output_type": "stream",
     "text": [
      "[nan 'No'] [nan 'No'] [nan 'No' 'Yes'] [nan 'No'] [nan 'No' 'Yes']\n"
     ]
    }
   ],
   "source": [
    "print(\n",
    "    data['does_the_passage_1_contain_and_support_the_answer_to_the_question_gold'].unique(),\n",
    "    data['does_the_passage_2_contain_and_support_the_answer_to_the_question_gold'].unique(),\n",
    "    data['does_the_passage_3_contain_and_support_the_answer_to_the_question_gold'].unique(),\n",
    "    data['does_the_passage_4_contain_and_support_the_answer_to_the_question_gold'].unique(),\n",
    "    data['does_the_passage_5_contain_and_support_the_answer_to_the_question_gold'].unique(),\n",
    ")"
   ]
  },
  {
   "cell_type": "code",
   "execution_count": 74,
   "metadata": {
    "scrolled": true
   },
   "outputs": [
    {
     "name": "stdout",
     "output_type": "stream",
     "text": [
      "1 1\n"
     ]
    }
   ],
   "source": [
    "print(\n",
    "    len(data[data['does_the_passage_3_contain_and_support_the_answer_to_the_question_gold'] == 'Yes']),\n",
    "    len(data[data['does_the_passage_5_contain_and_support_the_answer_to_the_question_gold'] == 'Yes']),\n",
    ")"
   ]
  },
  {
   "cell_type": "code",
   "execution_count": 75,
   "metadata": {},
   "outputs": [
    {
     "name": "stdout",
     "output_type": "stream",
     "text": [
      "['No' 'Yes'] ['No' 'Yes'] ['No' 'Yes'] ['No' 'Yes'] ['No' 'Yes']\n"
     ]
    }
   ],
   "source": [
    "print(\n",
    "    data['does_the_passage_1_contain_and_support_the_answer_to_the_question'].unique(),\n",
    "    data['does_the_passage_2_contain_and_support_the_answer_to_the_question'].unique(),\n",
    "    data['does_the_passage_3_contain_and_support_the_answer_to_the_question'].unique(),\n",
    "    data['does_the_passage_4_contain_and_support_the_answer_to_the_question'].unique(),\n",
    "    data['does_the_passage_5_contain_and_support_the_answer_to_the_question'].unique(),\n",
    ")"
   ]
  },
  {
   "cell_type": "code",
   "execution_count": 76,
   "metadata": {},
   "outputs": [
    {
     "name": "stdout",
     "output_type": "stream",
     "text": [
      "505 464 423 436 419\n"
     ]
    }
   ],
   "source": [
    "print(\n",
    "    len(data[data['does_the_passage_1_contain_and_support_the_answer_to_the_question'] == 'Yes']),\n",
    "    len(data[data['does_the_passage_2_contain_and_support_the_answer_to_the_question'] == 'Yes']),\n",
    "    len(data[data['does_the_passage_3_contain_and_support_the_answer_to_the_question'] == 'Yes']),\n",
    "    len(data[data['does_the_passage_4_contain_and_support_the_answer_to_the_question'] == 'Yes']),\n",
    "    len(data[data['does_the_passage_5_contain_and_support_the_answer_to_the_question'] == 'Yes']),\n",
    ")"
   ]
  },
  {
   "cell_type": "code",
   "execution_count": 77,
   "metadata": {},
   "outputs": [
    {
     "name": "stdout",
     "output_type": "stream",
     "text": [
      "31 31\n"
     ]
    }
   ],
   "source": [
    "print(\n",
    "    len(data[data['_golden'] == True]), #delete\n",
    "    len(data[data['_unit_state'] == 'golden']),\n",
    ")"
   ]
  },
  {
   "cell_type": "code",
   "execution_count": 78,
   "metadata": {},
   "outputs": [
    {
     "name": "stdout",
     "output_type": "stream",
     "text": [
      "0\n"
     ]
    }
   ],
   "source": [
    "print(len(data['_unit_id'].unique()) - len(data))"
   ]
  },
  {
   "cell_type": "code",
   "execution_count": 96,
   "metadata": {
    "scrolled": false
   },
   "outputs": [
    {
     "name": "stdout",
     "output_type": "stream",
     "text": [
      "0                 1981\n",
      "1                 1981\n",
      "2                 1981\n",
      "3                 1981\n",
      "4                 1981\n",
      "5                 1981\n",
      "6                 1981\n",
      "7                 1981\n",
      "8                 1981\n",
      "9                 1981\n",
      "10    Grover Cleveland\n",
      "11    Grover Cleveland\n",
      "12    Grover Cleveland\n",
      "13    Grover Cleveland\n",
      "14    Grover Cleveland\n",
      "15    Grover Cleveland\n",
      "16    Grover Cleveland\n",
      "17    Grover Cleveland\n",
      "18    Grover Cleveland\n",
      "19    Grover Cleveland\n",
      "20             cyanide\n",
      "21             cyanide\n",
      "22             cyanide\n",
      "23             cyanide\n",
      "24             cyanide\n",
      "25             cyanide\n",
      "26             cyanide\n",
      "27             cyanide\n",
      "28             cyanide\n",
      "29             cyanide\n",
      "30               Bexar\n",
      "31               Bexar\n",
      "32               Bexar\n",
      "33               Bexar\n",
      "34               Bexar\n",
      "35               Bexar\n",
      "36               Bexar\n",
      "37               Bexar\n",
      "38               Bexar\n",
      "39               Bexar\n",
      "40       Milli Vanilli\n",
      "41       Milli Vanilli\n",
      "42       Milli Vanilli\n",
      "43       Milli Vanilli\n",
      "44       Milli Vanilli\n",
      "45       Milli Vanilli\n",
      "46       Milli Vanilli\n",
      "47       Milli Vanilli\n",
      "48       Milli Vanilli\n",
      "49       Milli Vanilli\n",
      "Name: labels, dtype: object\n"
     ]
    }
   ],
   "source": [
    "print(data['labels'].head(50))"
   ]
  },
  {
   "cell_type": "code",
   "execution_count": 79,
   "metadata": {
    "collapsed": true
   },
   "outputs": [],
   "source": [
    "data.drop([\n",
    "    'does_the_passage_1_contain_and_support_the_answer_to_the_question_gold',\n",
    "    'does_the_passage_2_contain_and_support_the_answer_to_the_question_gold',\n",
    "    'does_the_passage_3_contain_and_support_the_answer_to_the_question_gold',\n",
    "    'does_the_passage_4_contain_and_support_the_answer_to_the_question_gold',\n",
    "    'does_the_passage_5_contain_and_support_the_answer_to_the_question_gold',\n",
    "    '_unit_id',\n",
    "    '_last_judgment_at',\n",
    "    '_golden',\n",
    "], axis=1, inplace=True)"
   ]
  },
  {
   "cell_type": "code",
   "execution_count": 81,
   "metadata": {
    "scrolled": false
   },
   "outputs": [
    {
     "data": {
      "text/plain": [
       "Index(['_unit_state', '_trusted_judgments',\n",
       "       'does_the_passage_1_contain_and_support_the_answer_to_the_question',\n",
       "       'does_the_passage_1_contain_and_support_the_answer_to_the_question:confidence',\n",
       "       'does_the_passage_2_contain_and_support_the_answer_to_the_question',\n",
       "       'does_the_passage_2_contain_and_support_the_answer_to_the_question:confidence',\n",
       "       'does_the_passage_3_contain_and_support_the_answer_to_the_question',\n",
       "       'does_the_passage_3_contain_and_support_the_answer_to_the_question:confidence',\n",
       "       'does_the_passage_4_contain_and_support_the_answer_to_the_question',\n",
       "       'does_the_passage_4_contain_and_support_the_answer_to_the_question:confidence',\n",
       "       'does_the_passage_5_contain_and_support_the_answer_to_the_question',\n",
       "       'does_the_passage_5_contain_and_support_the_answer_to_the_question:confidence',\n",
       "       'aid', 'answer', 'id', 'labels', 'qid', 'question'],\n",
       "      dtype='object')"
      ]
     },
     "execution_count": 81,
     "metadata": {},
     "output_type": "execute_result"
    }
   ],
   "source": [
    "data.columns"
   ]
  },
  {
   "cell_type": "code",
   "execution_count": null,
   "metadata": {
    "collapsed": true
   },
   "outputs": [],
   "source": []
  },
  {
   "cell_type": "code",
   "execution_count": 99,
   "metadata": {
    "collapsed": true
   },
   "outputs": [],
   "source": [
    "data.rename(columns={\n",
    "    '_unit_state': 'state',\n",
    "    '_trusted_judgments': 'trusted_judgments',\n",
    "    'does_the_passage_1_contain_and_support_the_answer_to_the_question': 'q_passage_1_supports_answer',\n",
    "    'does_the_passage_2_contain_and_support_the_answer_to_the_question': 'q_passage_2_supports_answer',\n",
    "    'does_the_passage_3_contain_and_support_the_answer_to_the_question': 'q_passage_3_supports_answer',\n",
    "    'does_the_passage_4_contain_and_support_the_answer_to_the_question': 'q_passage_4_supports_answer',\n",
    "    'does_the_passage_5_contain_and_support_the_answer_to_the_question': 'q_passage_5_supports_answer',\n",
    "    'does_the_passage_1_contain_and_support_the_answer_to_the_question:confidence': 'q_passage_1_supports_answer_с',\n",
    "    'does_the_passage_2_contain_and_support_the_answer_to_the_question:confidence': 'q_passage_2_supports_answer_с',\n",
    "    'does_the_passage_3_contain_and_support_the_answer_to_the_question:confidence': 'q_passage_3_supports_answer_с',\n",
    "    'does_the_passage_4_contain_and_support_the_answer_to_the_question:confidence': 'q_passage_4_supports_answer_с',\n",
    "    'does_the_passage_5_contain_and_support_the_answer_to_the_question:confidence': 'q_passage_5_supports_answer_с',\n",
    "}, inplace=True)"
   ]
  },
  {
   "cell_type": "code",
   "execution_count": 101,
   "metadata": {},
   "outputs": [
    {
     "data": {
      "text/html": [
       "<div>\n",
       "<style>\n",
       "    .dataframe thead tr:only-child th {\n",
       "        text-align: right;\n",
       "    }\n",
       "\n",
       "    .dataframe thead th {\n",
       "        text-align: left;\n",
       "    }\n",
       "\n",
       "    .dataframe tbody tr th {\n",
       "        vertical-align: top;\n",
       "    }\n",
       "</style>\n",
       "<table border=\"1\" class=\"dataframe\">\n",
       "  <thead>\n",
       "    <tr style=\"text-align: right;\">\n",
       "      <th></th>\n",
       "      <th>state</th>\n",
       "      <th>trusted_judgments</th>\n",
       "      <th>q_passage_1_supports_answer</th>\n",
       "      <th>q_passage_1_supports_answer_с</th>\n",
       "      <th>q_passage_2_supports_answer</th>\n",
       "      <th>q_passage_2_supports_answer_с</th>\n",
       "      <th>q_passage_3_supports_answer</th>\n",
       "      <th>q_passage_3_supports_answer_с</th>\n",
       "      <th>q_passage_4_supports_answer</th>\n",
       "      <th>q_passage_4_supports_answer_с</th>\n",
       "      <th>q_passage_5_supports_answer</th>\n",
       "      <th>q_passage_5_supports_answer_с</th>\n",
       "      <th>aid</th>\n",
       "      <th>answer</th>\n",
       "      <th>id</th>\n",
       "      <th>labels</th>\n",
       "      <th>qid</th>\n",
       "      <th>question</th>\n",
       "    </tr>\n",
       "  </thead>\n",
       "  <tbody>\n",
       "    <tr>\n",
       "      <th>0</th>\n",
       "      <td>finalized</td>\n",
       "      <td>3</td>\n",
       "      <td>No</td>\n",
       "      <td>1.0</td>\n",
       "      <td>No</td>\n",
       "      <td>1.0</td>\n",
       "      <td>No</td>\n",
       "      <td>1.0</td>\n",
       "      <td>No</td>\n",
       "      <td>1.0</td>\n",
       "      <td>No</td>\n",
       "      <td>1.0</td>\n",
       "      <td>NYT20000607.0223-17\\nAPW19990701.0193-8\\nNYT19...</td>\n",
       "      <td>&amp;QR; O N T H E W E B : For more on the awards:...</td>\n",
       "      <td>1</td>\n",
       "      <td>1981</td>\n",
       "      <td>2048</td>\n",
       "      <td>When was MTV started?</td>\n",
       "    </tr>\n",
       "    <tr>\n",
       "      <th>1</th>\n",
       "      <td>finalized</td>\n",
       "      <td>3</td>\n",
       "      <td>No</td>\n",
       "      <td>1.0</td>\n",
       "      <td>No</td>\n",
       "      <td>1.0</td>\n",
       "      <td>No</td>\n",
       "      <td>1.0</td>\n",
       "      <td>No</td>\n",
       "      <td>1.0</td>\n",
       "      <td>No</td>\n",
       "      <td>1.0</td>\n",
       "      <td>NYT19991024.0157-14\\nAPW19990907.0085-7\\nNYT19...</td>\n",
       "      <td>In the latest attempt to attain true convergen...</td>\n",
       "      <td>2</td>\n",
       "      <td>1981</td>\n",
       "      <td>2048</td>\n",
       "      <td>When was MTV started?</td>\n",
       "    </tr>\n",
       "    <tr>\n",
       "      <th>2</th>\n",
       "      <td>finalized</td>\n",
       "      <td>3</td>\n",
       "      <td>No</td>\n",
       "      <td>1.0</td>\n",
       "      <td>Yes</td>\n",
       "      <td>1.0</td>\n",
       "      <td>No</td>\n",
       "      <td>1.0</td>\n",
       "      <td>No</td>\n",
       "      <td>1.0</td>\n",
       "      <td>No</td>\n",
       "      <td>1.0</td>\n",
       "      <td>NYT19980911.0165-6\\nNYT19990218.0055-6\\nNYT200...</td>\n",
       "      <td>MTV-AWARDS (Undated) _ MTV Video Awards, in Lo...</td>\n",
       "      <td>3</td>\n",
       "      <td>1981</td>\n",
       "      <td>2048</td>\n",
       "      <td>When was MTV started?</td>\n",
       "    </tr>\n",
       "    <tr>\n",
       "      <th>3</th>\n",
       "      <td>finalized</td>\n",
       "      <td>3</td>\n",
       "      <td>No</td>\n",
       "      <td>1.0</td>\n",
       "      <td>No</td>\n",
       "      <td>1.0</td>\n",
       "      <td>No</td>\n",
       "      <td>1.0</td>\n",
       "      <td>No</td>\n",
       "      <td>1.0</td>\n",
       "      <td>No</td>\n",
       "      <td>1.0</td>\n",
       "      <td>NYT20000301.0403-16\\nAPW19980926.0209-6\\nNYT19...</td>\n",
       "      <td>After he lost the MTV gig, Isaacs remained in ...</td>\n",
       "      <td>4</td>\n",
       "      <td>1981</td>\n",
       "      <td>2048</td>\n",
       "      <td>When was MTV started?</td>\n",
       "    </tr>\n",
       "    <tr>\n",
       "      <th>4</th>\n",
       "      <td>finalized</td>\n",
       "      <td>3</td>\n",
       "      <td>No</td>\n",
       "      <td>1.0</td>\n",
       "      <td>No</td>\n",
       "      <td>1.0</td>\n",
       "      <td>No</td>\n",
       "      <td>1.0</td>\n",
       "      <td>No</td>\n",
       "      <td>1.0</td>\n",
       "      <td>No</td>\n",
       "      <td>1.0</td>\n",
       "      <td>NYT20000828.0060-14\\nNYT20000607.0233-13\\nNYT1...</td>\n",
       "      <td>``And the nominees are ...'' MTV at 8: Special...</td>\n",
       "      <td>5</td>\n",
       "      <td>1981</td>\n",
       "      <td>2048</td>\n",
       "      <td>When was MTV started?</td>\n",
       "    </tr>\n",
       "  </tbody>\n",
       "</table>\n",
       "</div>"
      ],
      "text/plain": [
       "       state  trusted_judgments q_passage_1_supports_answer  \\\n",
       "0  finalized                  3                          No   \n",
       "1  finalized                  3                          No   \n",
       "2  finalized                  3                          No   \n",
       "3  finalized                  3                          No   \n",
       "4  finalized                  3                          No   \n",
       "\n",
       "   q_passage_1_supports_answer_с q_passage_2_supports_answer  \\\n",
       "0                            1.0                          No   \n",
       "1                            1.0                          No   \n",
       "2                            1.0                         Yes   \n",
       "3                            1.0                          No   \n",
       "4                            1.0                          No   \n",
       "\n",
       "   q_passage_2_supports_answer_с q_passage_3_supports_answer  \\\n",
       "0                            1.0                          No   \n",
       "1                            1.0                          No   \n",
       "2                            1.0                          No   \n",
       "3                            1.0                          No   \n",
       "4                            1.0                          No   \n",
       "\n",
       "   q_passage_3_supports_answer_с q_passage_4_supports_answer  \\\n",
       "0                            1.0                          No   \n",
       "1                            1.0                          No   \n",
       "2                            1.0                          No   \n",
       "3                            1.0                          No   \n",
       "4                            1.0                          No   \n",
       "\n",
       "   q_passage_4_supports_answer_с q_passage_5_supports_answer  \\\n",
       "0                            1.0                          No   \n",
       "1                            1.0                          No   \n",
       "2                            1.0                          No   \n",
       "3                            1.0                          No   \n",
       "4                            1.0                          No   \n",
       "\n",
       "   q_passage_5_supports_answer_с  \\\n",
       "0                            1.0   \n",
       "1                            1.0   \n",
       "2                            1.0   \n",
       "3                            1.0   \n",
       "4                            1.0   \n",
       "\n",
       "                                                 aid  \\\n",
       "0  NYT20000607.0223-17\\nAPW19990701.0193-8\\nNYT19...   \n",
       "1  NYT19991024.0157-14\\nAPW19990907.0085-7\\nNYT19...   \n",
       "2  NYT19980911.0165-6\\nNYT19990218.0055-6\\nNYT200...   \n",
       "3  NYT20000301.0403-16\\nAPW19980926.0209-6\\nNYT19...   \n",
       "4  NYT20000828.0060-14\\nNYT20000607.0233-13\\nNYT1...   \n",
       "\n",
       "                                              answer  id labels   qid  \\\n",
       "0  &QR; O N T H E W E B : For more on the awards:...   1   1981  2048   \n",
       "1  In the latest attempt to attain true convergen...   2   1981  2048   \n",
       "2  MTV-AWARDS (Undated) _ MTV Video Awards, in Lo...   3   1981  2048   \n",
       "3  After he lost the MTV gig, Isaacs remained in ...   4   1981  2048   \n",
       "4  ``And the nominees are ...'' MTV at 8: Special...   5   1981  2048   \n",
       "\n",
       "                question  \n",
       "0  When was MTV started?  \n",
       "1  When was MTV started?  \n",
       "2  When was MTV started?  \n",
       "3  When was MTV started?  \n",
       "4  When was MTV started?  "
      ]
     },
     "execution_count": 101,
     "metadata": {},
     "output_type": "execute_result"
    }
   ],
   "source": [
    "data.head()"
   ]
  }
 ],
 "metadata": {
  "kernelspec": {
   "display_name": "Python 3",
   "language": "python",
   "name": "python3"
  },
  "language_info": {
   "codemirror_mode": {
    "name": "ipython",
    "version": 3
   },
   "file_extension": ".py",
   "mimetype": "text/x-python",
   "name": "python",
   "nbconvert_exporter": "python",
   "pygments_lexer": "ipython3",
   "version": "3.6.3"
  }
 },
 "nbformat": 4,
 "nbformat_minor": 2
}
